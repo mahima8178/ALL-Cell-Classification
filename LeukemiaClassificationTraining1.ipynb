{
  "nbformat": 4,
  "nbformat_minor": 0,
  "metadata": {
    "colab": {
      "name": "LeukemiaClassificationTraining1.ipynb",
      "provenance": [],
      "collapsed_sections": [],
      "toc_visible": true,
      "machine_shape": "hm",
      "mount_file_id": "1pUhpaezETqOg4yQdClD7IGf51-4MykdE",
      "authorship_tag": "ABX9TyOgvR3/aa2YG2VxUm+p8Gph",
      "include_colab_link": true
    },
    "kernelspec": {
      "name": "python3",
      "display_name": "Python 3"
    },
    "language_info": {
      "name": "python"
    },
    "accelerator": "GPU"
  },
  "cells": [
    {
      "cell_type": "markdown",
      "metadata": {
        "id": "view-in-github",
        "colab_type": "text"
      },
      "source": [
        "<a href=\"https://colab.research.google.com/github/rishipython/ALL-Cell-Classification/blob/main/LeukemiaClassificationTraining1.ipynb\" target=\"_parent\"><img src=\"https://colab.research.google.com/assets/colab-badge.svg\" alt=\"Open In Colab\"/></a>"
      ]
    },
    {
      "cell_type": "code",
      "metadata": {
        "id": "VvuDB6HSOPO_"
      },
      "source": [
        "import keras\n",
        "from keras.applications.vgg16 import VGG16\n",
        "from keras.applications.inception_v3 import InceptionV3\n",
        "from keras.applications.resnet50 import ResNet50\n",
        "from keras.layers import Add\n",
        "from keras.layers import Dense\n",
        "from keras import backend as K\n",
        "from keras.engine import Input, Model\n",
        "from keras.layers import Conv2D, MaxPooling2D, UpSampling2D, Activation, BatchNormalization, PReLU, Dropout, Conv2DTranspose\n",
        "from keras.optimizers import Adam\n",
        "from keras.layers.merge import concatenate\n",
        "from keras.utils import to_categorical\n",
        "import PIL\n",
        "import numpy as np\n",
        "from PIL import Image\n",
        "from numpy import asarray\n",
        "import glob\n",
        "import nibabel as nib\n",
        "import os\n",
        "import tarfile as trf\n",
        "from sklearn.model_selection import train_test_split\n",
        "import matplotlib.pyplot as plt\n",
        "import pandas as pd\n",
        "import pickle\n",
        "from sklearn.metrics import roc_auc_score, roc_curve, auc\n",
        "from IPython.display import display\n",
        "K.set_image_data_format(\"channels_last\")"
      ],
      "execution_count": null,
      "outputs": []
    },
    {
      "cell_type": "code",
      "metadata": {
        "colab": {
          "base_uri": "https://localhost:8080/"
        },
        "id": "j-IClmKiOUXB",
        "outputId": "e5851661-2c70-4069-acf1-f76cf1788bbc"
      },
      "source": [
        "# Access GPU\n",
        "gpu_info = !nvidia-smi\n",
        "gpu_info = '\\n'.join(gpu_info)\n",
        "if gpu_info.find('failed') >= 0:\n",
        "  print('Select the Runtime > \"Change runtime type\" menu to enable a GPU accelerator, ')\n",
        "  print('and then re-execute this cell.')\n",
        "else:\n",
        "  print(gpu_info)"
      ],
      "execution_count": null,
      "outputs": [
        {
          "output_type": "stream",
          "text": [
            "Sun Apr 11 15:56:57 2021       \n",
            "+-----------------------------------------------------------------------------+\n",
            "| NVIDIA-SMI 460.67       Driver Version: 460.32.03    CUDA Version: 11.2     |\n",
            "|-------------------------------+----------------------+----------------------+\n",
            "| GPU  Name        Persistence-M| Bus-Id        Disp.A | Volatile Uncorr. ECC |\n",
            "| Fan  Temp  Perf  Pwr:Usage/Cap|         Memory-Usage | GPU-Util  Compute M. |\n",
            "|                               |                      |               MIG M. |\n",
            "|===============================+======================+======================|\n",
            "|   0  Tesla P100-PCIE...  Off  | 00000000:00:04.0 Off |                    0 |\n",
            "| N/A   44C    P0    27W / 250W |      0MiB / 16280MiB |      0%      Default |\n",
            "|                               |                      |                  N/A |\n",
            "+-------------------------------+----------------------+----------------------+\n",
            "                                                                               \n",
            "+-----------------------------------------------------------------------------+\n",
            "| Processes:                                                                  |\n",
            "|  GPU   GI   CI        PID   Type   Process name                  GPU Memory |\n",
            "|        ID   ID                                                   Usage      |\n",
            "|=============================================================================|\n",
            "|  No running processes found                                                 |\n",
            "+-----------------------------------------------------------------------------+\n"
          ],
          "name": "stdout"
        }
      ]
    },
    {
      "cell_type": "code",
      "metadata": {
        "colab": {
          "base_uri": "https://localhost:8080/"
        },
        "id": "8NQEymYEOiZI",
        "outputId": "b4e6dbf5-a0e7-40aa-8e6b-13e5676be5d3"
      },
      "source": [
        "# Access more memory\n",
        "from psutil import virtual_memory\n",
        "ram_gb = virtual_memory().total / 1e9\n",
        "print('Your runtime has {:.1f} gigabytes of available RAM\\n'.format(ram_gb))\n",
        "\n",
        "if ram_gb < 20:\n",
        "  print('To enable a high-RAM runtime, select the Runtime > \"Change runtime type\"')\n",
        "  print('menu, and then select High-RAM in the Runtime shape dropdown. Then, ')\n",
        "  print('re-execute this cell.')\n",
        "else:\n",
        "  print('You are using a high-RAM runtime!')"
      ],
      "execution_count": null,
      "outputs": [
        {
          "output_type": "stream",
          "text": [
            "Your runtime has 27.4 gigabytes of available RAM\n",
            "\n",
            "You are using a high-RAM runtime!\n"
          ],
          "name": "stdout"
        }
      ]
    },
    {
      "cell_type": "code",
      "metadata": {
        "colab": {
          "base_uri": "https://localhost:8080/"
        },
        "id": "hjoaDtuKOklF",
        "outputId": "4932d097-98b5-467a-daee-d4b8f54f286b"
      },
      "source": [
        "# See if Tensorflow is using GPU\n",
        "%tensorflow_version 2.x\n",
        "import tensorflow as tf\n",
        "device_name = tf.test.gpu_device_name()\n",
        "if device_name != '/device:GPU:0':\n",
        "  raise SystemError('GPU device not found')\n",
        "print('Found GPU at: {}'.format(device_name))"
      ],
      "execution_count": null,
      "outputs": [
        {
          "output_type": "stream",
          "text": [
            "Found GPU at: /device:GPU:0\n"
          ],
          "name": "stdout"
        }
      ]
    },
    {
      "cell_type": "code",
      "metadata": {
        "colab": {
          "base_uri": "https://localhost:8080/"
        },
        "id": "LOlFtV7OOmfL",
        "outputId": "e7ff59b4-5ebf-4a95-e05b-dc814cee91a1"
      },
      "source": [
        "from google.colab import drive\n",
        "drive.mount('/content/drive')"
      ],
      "execution_count": null,
      "outputs": [
        {
          "output_type": "stream",
          "text": [
            "Mounted at /content/drive\n"
          ],
          "name": "stdout"
        }
      ]
    },
    {
      "cell_type": "code",
      "metadata": {
        "id": "LpHN-j8lOpDp"
      },
      "source": [
        "drive_dir = f\"{os.sep}content{os.sep}drive{os.sep}My Drive{os.sep}leukemia_classification{os.sep}\""
      ],
      "execution_count": null,
      "outputs": []
    },
    {
      "cell_type": "markdown",
      "metadata": {
        "id": "PGkFQ667PYjC"
      },
      "source": [
        "# Make and train model_1, model_2, and model_3"
      ]
    },
    {
      "cell_type": "code",
      "metadata": {
        "id": "fG2jFcfVPePw"
      },
      "source": [
        "x_train = np.load(drive_dir+\"x_train.npy\")\n",
        "y_train = np.load(drive_dir+\"y_train.npy\")\n",
        "x_val = np.load(drive_dir+\"x_val.npy\")\n",
        "y_val = np.load(drive_dir+\"y_val.npy\")\n",
        "x_test = np.load(drive_dir+\"x_test.npy\")\n",
        "y_test = np.load(drive_dir+\"y_test.npy\")"
      ],
      "execution_count": null,
      "outputs": []
    },
    {
      "cell_type": "code",
      "metadata": {
        "id": "rFNGXEmzPiXT",
        "colab": {
          "base_uri": "https://localhost:8080/"
        },
        "outputId": "280d9633-1efb-47ab-d36e-9e4e6c730407"
      },
      "source": [
        "print(x_train.shape)\n",
        "print(y_train.shape)\n",
        "print(x_val.shape)\n",
        "print(y_val.shape)\n",
        "print(x_test.shape)\n",
        "print(y_test.shape)"
      ],
      "execution_count": null,
      "outputs": [
        {
          "output_type": "stream",
          "text": [
            "(1020, 450, 450, 3)\n",
            "(1020, 1, 1, 1)\n",
            "(340, 450, 450, 3)\n",
            "(340, 1, 1, 1)\n",
            "(340, 450, 450, 3)\n",
            "(340, 1, 1, 1)\n"
          ],
          "name": "stdout"
        }
      ]
    },
    {
      "cell_type": "code",
      "metadata": {
        "id": "vRZh3NBsPldS"
      },
      "source": [
        "mean = float(open(drive_dir+\"mean.txt\", 'r').readline())\n",
        "std = float(open(drive_dir+\"std.txt\", 'r').readline())"
      ],
      "execution_count": null,
      "outputs": []
    },
    {
      "cell_type": "code",
      "metadata": {
        "id": "7-p41MJvPn7y",
        "colab": {
          "base_uri": "https://localhost:8080/"
        },
        "outputId": "31115529-0a10-435f-ff96-ed6f4631cdae"
      },
      "source": [
        "print(mean)\n",
        "print(type(mean))\n",
        "print(std)\n",
        "print(type(std))"
      ],
      "execution_count": null,
      "outputs": [
        {
          "output_type": "stream",
          "text": [
            "9.178323056564189\n",
            "<class 'float'>\n",
            "23.645296284294893\n",
            "<class 'float'>\n"
          ],
          "name": "stdout"
        }
      ]
    },
    {
      "cell_type": "code",
      "metadata": {
        "id": "GS55BUVMPpph"
      },
      "source": [
        "input_shape = x_train[0].shape\n",
        "output_shape = (1, 1, 1)"
      ],
      "execution_count": null,
      "outputs": []
    },
    {
      "cell_type": "code",
      "metadata": {
        "id": "pwWE4jc6PxTm",
        "colab": {
          "base_uri": "https://localhost:8080/"
        },
        "outputId": "7ed78c8b-cf77-45a9-daa6-fc86e0c8433c"
      },
      "source": [
        "print(input_shape)\n",
        "print(output_shape)"
      ],
      "execution_count": null,
      "outputs": [
        {
          "output_type": "stream",
          "text": [
            "(450, 450, 3)\n",
            "(1, 1, 1)\n"
          ],
          "name": "stdout"
        }
      ]
    },
    {
      "cell_type": "code",
      "metadata": {
        "id": "ZsPe0WWuP0Li"
      },
      "source": [
        "lr = 1e-4\n",
        "loss_function = \"binary_crossentropy\"\n",
        "metrics = \"accuracy\"\n",
        "if not isinstance(metrics, list):\n",
        "  metrics = [metrics]"
      ],
      "execution_count": null,
      "outputs": []
    },
    {
      "cell_type": "code",
      "metadata": {
        "id": "W-b57u1QpHAw",
        "colab": {
          "base_uri": "https://localhost:8080/"
        },
        "outputId": "24afdf38-f6a8-4f85-8d47-607afa9ad01a"
      },
      "source": [
        "# Model 1 (VGG16)\n",
        "model_1_input_layer = Input(shape=input_shape)\n",
        "model_1_vgg16 = VGG16(input_shape=input_shape, include_top=False)(model_1_input_layer)\n",
        "model_1_output_layer = Conv2D(output_shape[-1], model_1_vgg16.shape[1]-output_shape[0]+1, activation=\"sigmoid\")(model_1_vgg16)\n",
        "model_1 = Model(model_1_input_layer, model_1_output_layer)\n",
        "model_1.compile(optimizer = Adam(lr = lr), loss = loss_function, metrics = metrics)"
      ],
      "execution_count": null,
      "outputs": [
        {
          "output_type": "stream",
          "text": [
            "Downloading data from https://storage.googleapis.com/tensorflow/keras-applications/vgg16/vgg16_weights_tf_dim_ordering_tf_kernels_notop.h5\n",
            "58892288/58889256 [==============================] - 1s 0us/step\n"
          ],
          "name": "stdout"
        }
      ]
    },
    {
      "cell_type": "code",
      "metadata": {
        "id": "tnbAU6sHpNvT",
        "colab": {
          "base_uri": "https://localhost:8080/"
        },
        "outputId": "d91fb898-76b1-4285-aa99-0cc3e42c0601"
      },
      "source": [
        "model_1.summary()"
      ],
      "execution_count": null,
      "outputs": [
        {
          "output_type": "stream",
          "text": [
            "Model: \"model\"\n",
            "_________________________________________________________________\n",
            "Layer (type)                 Output Shape              Param #   \n",
            "=================================================================\n",
            "input_1 (InputLayer)         [(None, 450, 450, 3)]     0         \n",
            "_________________________________________________________________\n",
            "vgg16 (Functional)           (None, 14, 14, 512)       14714688  \n",
            "_________________________________________________________________\n",
            "conv2d (Conv2D)              (None, 1, 1, 1)           100353    \n",
            "=================================================================\n",
            "Total params: 14,815,041\n",
            "Trainable params: 14,815,041\n",
            "Non-trainable params: 0\n",
            "_________________________________________________________________\n"
          ],
          "name": "stdout"
        }
      ]
    },
    {
      "cell_type": "code",
      "metadata": {
        "id": "LQZe7h7gpPqt",
        "colab": {
          "base_uri": "https://localhost:8080/"
        },
        "outputId": "5b6ddaaf-6231-4d56-bdc9-71b2ecb0571c"
      },
      "source": [
        "# Model 2 (ResNet50)\n",
        "model_2_input_layer = Input(shape=input_shape)\n",
        "model_2_resnet50 = ResNet50(input_shape=input_shape, include_top=False)(model_2_input_layer)\n",
        "model_2_output_layer = Conv2D(output_shape[-1], model_2_resnet50.shape[1]-output_shape[0]+1, activation=\"sigmoid\")(model_2_resnet50)\n",
        "model_2 = Model(model_2_input_layer, model_2_output_layer)\n",
        "model_2.compile(optimizer = Adam(lr = lr), loss = loss_function, metrics = metrics)"
      ],
      "execution_count": null,
      "outputs": [
        {
          "output_type": "stream",
          "text": [
            "Downloading data from https://storage.googleapis.com/tensorflow/keras-applications/resnet/resnet50_weights_tf_dim_ordering_tf_kernels_notop.h5\n",
            "94773248/94765736 [==============================] - 1s 0us/step\n"
          ],
          "name": "stdout"
        }
      ]
    },
    {
      "cell_type": "code",
      "metadata": {
        "id": "ECEqzotzpSYm",
        "colab": {
          "base_uri": "https://localhost:8080/"
        },
        "outputId": "55192c9f-f491-4d84-8441-1ffe7f63b5ba"
      },
      "source": [
        "model_2.summary()"
      ],
      "execution_count": null,
      "outputs": [
        {
          "output_type": "stream",
          "text": [
            "Model: \"model_1\"\n",
            "_________________________________________________________________\n",
            "Layer (type)                 Output Shape              Param #   \n",
            "=================================================================\n",
            "input_3 (InputLayer)         [(None, 450, 450, 3)]     0         \n",
            "_________________________________________________________________\n",
            "resnet50 (Functional)        (None, 15, 15, 2048)      23587712  \n",
            "_________________________________________________________________\n",
            "conv2d_1 (Conv2D)            (None, 1, 1, 1)           460801    \n",
            "=================================================================\n",
            "Total params: 24,048,513\n",
            "Trainable params: 23,995,393\n",
            "Non-trainable params: 53,120\n",
            "_________________________________________________________________\n"
          ],
          "name": "stdout"
        }
      ]
    },
    {
      "cell_type": "code",
      "metadata": {
        "id": "30VkrzSMpUvy",
        "colab": {
          "base_uri": "https://localhost:8080/"
        },
        "outputId": "d2c3c6ef-516c-43e7-922e-d0a15efd581f"
      },
      "source": [
        "# Model 3 (InceptionV3)\n",
        "model_3_input_layer = Input(shape=input_shape)\n",
        "model_3_inception_v3 = InceptionV3(input_shape=input_shape, include_top=False)(model_3_input_layer)\n",
        "model_3_output_layer = Conv2D(output_shape[-1], model_3_inception_v3.shape[1]-output_shape[0]+1, activation=\"sigmoid\")(model_3_inception_v3)\n",
        "model_3 = Model(model_3_input_layer, model_3_output_layer)\n",
        "model_3.compile(optimizer = Adam(lr = lr), loss = loss_function, metrics = metrics)"
      ],
      "execution_count": null,
      "outputs": [
        {
          "output_type": "stream",
          "text": [
            "Downloading data from https://storage.googleapis.com/tensorflow/keras-applications/inception_v3/inception_v3_weights_tf_dim_ordering_tf_kernels_notop.h5\n",
            "87916544/87910968 [==============================] - 3s 0us/step\n"
          ],
          "name": "stdout"
        }
      ]
    },
    {
      "cell_type": "code",
      "metadata": {
        "id": "fU66471tpXOz",
        "colab": {
          "base_uri": "https://localhost:8080/"
        },
        "outputId": "01ceaf05-6e47-41ca-a88a-d3b2611a705d"
      },
      "source": [
        "model_3.summary()"
      ],
      "execution_count": null,
      "outputs": [
        {
          "output_type": "stream",
          "text": [
            "Model: \"model_2\"\n",
            "_________________________________________________________________\n",
            "Layer (type)                 Output Shape              Param #   \n",
            "=================================================================\n",
            "input_5 (InputLayer)         [(None, 450, 450, 3)]     0         \n",
            "_________________________________________________________________\n",
            "inception_v3 (Functional)    (None, 12, 12, 2048)      21802784  \n",
            "_________________________________________________________________\n",
            "conv2d_96 (Conv2D)           (None, 1, 1, 1)           294913    \n",
            "=================================================================\n",
            "Total params: 22,097,697\n",
            "Trainable params: 22,063,265\n",
            "Non-trainable params: 34,432\n",
            "_________________________________________________________________\n"
          ],
          "name": "stdout"
        }
      ]
    },
    {
      "cell_type": "code",
      "metadata": {
        "id": "h_ubA4v3ptu5"
      },
      "source": [
        "models = [model_1, model_2, model_3]"
      ],
      "execution_count": null,
      "outputs": []
    },
    {
      "cell_type": "code",
      "metadata": {
        "id": "azM3GB_Mp0X5"
      },
      "source": [
        "histories = [None for i in range(len(models))]"
      ],
      "execution_count": null,
      "outputs": []
    },
    {
      "cell_type": "code",
      "metadata": {
        "id": "j83zZ6Z7QGfo"
      },
      "source": [
        "epochs = 33\n",
        "batch_size = 10"
      ],
      "execution_count": null,
      "outputs": []
    },
    {
      "cell_type": "code",
      "metadata": {
        "id": "nJN42Do4P62T",
        "colab": {
          "base_uri": "https://localhost:8080/"
        },
        "outputId": "de3543ea-d91a-4a2f-e467-f3a9b9c6ebc6"
      },
      "source": [
        "# Train models\n",
        "for i in range(len(models)):\n",
        "  histories[i] = models[i].fit(x_train, y_train, validation_data=(x_val, y_val), epochs=epochs, batch_size=batch_size)\n",
        "  models[i].save(drive_dir + f'model_{i+1}')\n",
        "  hist_df = pd.DataFrame(histories[i].history)\n",
        "  hist_csv_file = drive_dir + f'history_{i+1}.csv'\n",
        "  with open(hist_csv_file, mode='w') as f:\n",
        "    hist_df.to_csv(f)\n",
        "  print(f\"Completed training of model_{i+1}.\")"
      ],
      "execution_count": null,
      "outputs": [
        {
          "output_type": "stream",
          "text": [
            "Epoch 1/33\n",
            "102/102 [==============================] - 58s 358ms/step - loss: 0.5938 - accuracy: 0.6799 - val_loss: 0.5302 - val_accuracy: 0.7706\n",
            "Epoch 2/33\n",
            "102/102 [==============================] - 35s 343ms/step - loss: 0.4798 - accuracy: 0.7822 - val_loss: 0.5110 - val_accuracy: 0.7471\n",
            "Epoch 3/33\n",
            "102/102 [==============================] - 35s 343ms/step - loss: 0.4892 - accuracy: 0.7678 - val_loss: 0.5407 - val_accuracy: 0.7794\n",
            "Epoch 4/33\n",
            "102/102 [==============================] - 35s 343ms/step - loss: 0.4960 - accuracy: 0.7731 - val_loss: 0.4573 - val_accuracy: 0.8000\n",
            "Epoch 5/33\n",
            "102/102 [==============================] - 35s 343ms/step - loss: 0.4486 - accuracy: 0.8029 - val_loss: 0.4931 - val_accuracy: 0.7765\n",
            "Epoch 6/33\n",
            "102/102 [==============================] - 35s 343ms/step - loss: 0.4548 - accuracy: 0.7989 - val_loss: 0.5418 - val_accuracy: 0.7176\n",
            "Epoch 7/33\n",
            "102/102 [==============================] - 35s 343ms/step - loss: 0.4317 - accuracy: 0.8182 - val_loss: 0.4448 - val_accuracy: 0.7941\n",
            "Epoch 8/33\n",
            "102/102 [==============================] - 35s 343ms/step - loss: 0.4005 - accuracy: 0.8216 - val_loss: 0.4489 - val_accuracy: 0.7676\n",
            "Epoch 9/33\n",
            "102/102 [==============================] - 35s 343ms/step - loss: 0.3327 - accuracy: 0.8669 - val_loss: 0.7032 - val_accuracy: 0.6824\n",
            "Epoch 10/33\n",
            "102/102 [==============================] - 35s 343ms/step - loss: 0.3459 - accuracy: 0.8396 - val_loss: 0.3746 - val_accuracy: 0.8412\n",
            "Epoch 11/33\n",
            "102/102 [==============================] - 35s 343ms/step - loss: 0.2676 - accuracy: 0.8948 - val_loss: 0.4464 - val_accuracy: 0.8353\n",
            "Epoch 12/33\n",
            "102/102 [==============================] - 35s 343ms/step - loss: 0.2262 - accuracy: 0.9028 - val_loss: 0.5788 - val_accuracy: 0.7588\n",
            "Epoch 13/33\n",
            "102/102 [==============================] - 35s 343ms/step - loss: 0.2389 - accuracy: 0.8955 - val_loss: 0.4427 - val_accuracy: 0.8529\n",
            "Epoch 14/33\n",
            "102/102 [==============================] - 35s 343ms/step - loss: 0.1654 - accuracy: 0.9386 - val_loss: 0.4342 - val_accuracy: 0.8235\n",
            "Epoch 15/33\n",
            "102/102 [==============================] - 35s 343ms/step - loss: 0.1874 - accuracy: 0.9283 - val_loss: 0.5020 - val_accuracy: 0.8647\n",
            "Epoch 16/33\n",
            "102/102 [==============================] - 35s 343ms/step - loss: 0.1107 - accuracy: 0.9618 - val_loss: 0.5320 - val_accuracy: 0.8618\n",
            "Epoch 17/33\n",
            "102/102 [==============================] - 35s 343ms/step - loss: 0.1504 - accuracy: 0.9423 - val_loss: 0.5117 - val_accuracy: 0.8324\n",
            "Epoch 18/33\n",
            "102/102 [==============================] - 35s 343ms/step - loss: 0.0705 - accuracy: 0.9813 - val_loss: 0.7757 - val_accuracy: 0.8353\n",
            "Epoch 19/33\n",
            "102/102 [==============================] - 35s 343ms/step - loss: 0.0511 - accuracy: 0.9809 - val_loss: 0.6222 - val_accuracy: 0.8059\n",
            "Epoch 20/33\n",
            "102/102 [==============================] - 35s 343ms/step - loss: 0.0986 - accuracy: 0.9629 - val_loss: 0.7950 - val_accuracy: 0.8353\n",
            "Epoch 21/33\n",
            "102/102 [==============================] - 35s 343ms/step - loss: 0.0402 - accuracy: 0.9895 - val_loss: 0.4925 - val_accuracy: 0.8471\n",
            "Epoch 22/33\n",
            "102/102 [==============================] - 35s 343ms/step - loss: 0.0447 - accuracy: 0.9905 - val_loss: 0.8937 - val_accuracy: 0.8353\n",
            "Epoch 23/33\n",
            "102/102 [==============================] - 35s 343ms/step - loss: 0.0147 - accuracy: 0.9986 - val_loss: 1.2432 - val_accuracy: 0.8324\n",
            "Epoch 24/33\n",
            "102/102 [==============================] - 35s 343ms/step - loss: 0.0625 - accuracy: 0.9769 - val_loss: 1.0923 - val_accuracy: 0.8529\n",
            "Epoch 25/33\n",
            "102/102 [==============================] - 35s 343ms/step - loss: 0.0545 - accuracy: 0.9748 - val_loss: 0.8251 - val_accuracy: 0.8324\n",
            "Epoch 26/33\n",
            "102/102 [==============================] - 35s 343ms/step - loss: 0.0704 - accuracy: 0.9825 - val_loss: 0.9502 - val_accuracy: 0.7794\n",
            "Epoch 27/33\n",
            "102/102 [==============================] - 35s 343ms/step - loss: 0.0250 - accuracy: 0.9928 - val_loss: 1.1743 - val_accuracy: 0.8206\n",
            "Epoch 28/33\n",
            "102/102 [==============================] - 35s 344ms/step - loss: 0.0650 - accuracy: 0.9784 - val_loss: 0.8956 - val_accuracy: 0.8471\n",
            "Epoch 29/33\n",
            "102/102 [==============================] - 35s 343ms/step - loss: 0.0012 - accuracy: 1.0000 - val_loss: 1.0241 - val_accuracy: 0.8471\n",
            "Epoch 30/33\n",
            "102/102 [==============================] - 35s 343ms/step - loss: 1.9710e-04 - accuracy: 1.0000 - val_loss: 1.0601 - val_accuracy: 0.8412\n",
            "Epoch 31/33\n",
            "102/102 [==============================] - 35s 343ms/step - loss: 1.1654e-04 - accuracy: 1.0000 - val_loss: 1.0885 - val_accuracy: 0.8412\n",
            "Epoch 32/33\n",
            "102/102 [==============================] - 35s 343ms/step - loss: 8.4728e-05 - accuracy: 1.0000 - val_loss: 1.1085 - val_accuracy: 0.8412\n",
            "Epoch 33/33\n",
            "102/102 [==============================] - 35s 343ms/step - loss: 6.9974e-05 - accuracy: 1.0000 - val_loss: 1.1270 - val_accuracy: 0.8412\n",
            "INFO:tensorflow:Assets written to: /content/drive/My Drive/leukemia_classification/model_1/assets\n",
            "Completed training of model_1.\n",
            "Epoch 1/33\n",
            "102/102 [==============================] - 34s 267ms/step - loss: 1.2368 - accuracy: 0.7298 - val_loss: 0.6814 - val_accuracy: 0.5676\n",
            "Epoch 2/33\n",
            "102/102 [==============================] - 26s 251ms/step - loss: 0.3537 - accuracy: 0.8644 - val_loss: 0.6850 - val_accuracy: 0.4794\n",
            "Epoch 3/33\n",
            "102/102 [==============================] - 26s 251ms/step - loss: 0.1096 - accuracy: 0.9591 - val_loss: 0.6472 - val_accuracy: 0.6382\n",
            "Epoch 4/33\n",
            "102/102 [==============================] - 26s 251ms/step - loss: 0.0540 - accuracy: 0.9719 - val_loss: 0.6112 - val_accuracy: 0.6324\n",
            "Epoch 5/33\n",
            "102/102 [==============================] - 26s 252ms/step - loss: 0.0331 - accuracy: 0.9899 - val_loss: 0.6060 - val_accuracy: 0.6382\n",
            "Epoch 6/33\n",
            "102/102 [==============================] - 26s 252ms/step - loss: 0.0198 - accuracy: 0.9970 - val_loss: 0.4424 - val_accuracy: 0.8382\n",
            "Epoch 7/33\n",
            "102/102 [==============================] - 26s 252ms/step - loss: 0.0659 - accuracy: 0.9678 - val_loss: 0.4751 - val_accuracy: 0.7912\n",
            "Epoch 8/33\n",
            "102/102 [==============================] - 26s 252ms/step - loss: 0.1244 - accuracy: 0.9668 - val_loss: 1.0348 - val_accuracy: 0.7618\n",
            "Epoch 9/33\n",
            "102/102 [==============================] - 26s 251ms/step - loss: 0.1998 - accuracy: 0.9324 - val_loss: 1.5147 - val_accuracy: 0.6441\n",
            "Epoch 10/33\n",
            "102/102 [==============================] - 26s 251ms/step - loss: 0.0949 - accuracy: 0.9587 - val_loss: 6.1476 - val_accuracy: 0.6529\n",
            "Epoch 11/33\n",
            "102/102 [==============================] - 26s 251ms/step - loss: 0.1078 - accuracy: 0.9573 - val_loss: 0.7211 - val_accuracy: 0.8500\n",
            "Epoch 12/33\n",
            "102/102 [==============================] - 26s 251ms/step - loss: 0.0734 - accuracy: 0.9806 - val_loss: 0.5810 - val_accuracy: 0.8618\n",
            "Epoch 13/33\n",
            "102/102 [==============================] - 26s 252ms/step - loss: 0.0110 - accuracy: 0.9978 - val_loss: 0.6796 - val_accuracy: 0.8324\n",
            "Epoch 14/33\n",
            "102/102 [==============================] - 26s 252ms/step - loss: 0.0306 - accuracy: 0.9889 - val_loss: 0.7625 - val_accuracy: 0.8412\n",
            "Epoch 15/33\n",
            "102/102 [==============================] - 26s 252ms/step - loss: 0.0467 - accuracy: 0.9818 - val_loss: 0.6404 - val_accuracy: 0.8559\n",
            "Epoch 16/33\n",
            "102/102 [==============================] - 26s 252ms/step - loss: 0.0398 - accuracy: 0.9900 - val_loss: 2.2771 - val_accuracy: 0.7088\n",
            "Epoch 17/33\n",
            "102/102 [==============================] - 26s 252ms/step - loss: 0.0202 - accuracy: 0.9928 - val_loss: 8.7947 - val_accuracy: 0.4971\n",
            "Epoch 18/33\n",
            "102/102 [==============================] - 26s 252ms/step - loss: 0.0447 - accuracy: 0.9779 - val_loss: 6.0751 - val_accuracy: 0.6029\n",
            "Epoch 19/33\n",
            "102/102 [==============================] - 26s 252ms/step - loss: 0.1291 - accuracy: 0.9712 - val_loss: 1.3165 - val_accuracy: 0.6353\n",
            "Epoch 20/33\n",
            "102/102 [==============================] - 26s 252ms/step - loss: 0.3219 - accuracy: 0.9287 - val_loss: 0.7234 - val_accuracy: 0.7882\n",
            "Epoch 21/33\n",
            "102/102 [==============================] - 26s 252ms/step - loss: 0.0776 - accuracy: 0.9733 - val_loss: 3.5039 - val_accuracy: 0.6118\n",
            "Epoch 22/33\n",
            "102/102 [==============================] - 26s 252ms/step - loss: 0.0844 - accuracy: 0.9758 - val_loss: 0.8837 - val_accuracy: 0.8059\n",
            "Epoch 23/33\n",
            "102/102 [==============================] - 26s 252ms/step - loss: 0.0199 - accuracy: 0.9947 - val_loss: 0.7678 - val_accuracy: 0.8471\n",
            "Epoch 24/33\n",
            "102/102 [==============================] - 26s 252ms/step - loss: 0.0022 - accuracy: 0.9998 - val_loss: 0.4854 - val_accuracy: 0.8912\n",
            "Epoch 25/33\n",
            "102/102 [==============================] - 26s 252ms/step - loss: 0.0250 - accuracy: 0.9931 - val_loss: 0.6419 - val_accuracy: 0.8618\n",
            "Epoch 26/33\n",
            "102/102 [==============================] - 26s 252ms/step - loss: 0.0093 - accuracy: 0.9963 - val_loss: 0.8866 - val_accuracy: 0.8118\n",
            "Epoch 27/33\n",
            "102/102 [==============================] - 26s 252ms/step - loss: 0.0054 - accuracy: 1.0000 - val_loss: 0.4558 - val_accuracy: 0.8971\n",
            "Epoch 28/33\n",
            "102/102 [==============================] - 26s 252ms/step - loss: 8.9693e-04 - accuracy: 1.0000 - val_loss: 0.5170 - val_accuracy: 0.8853\n",
            "Epoch 29/33\n",
            "102/102 [==============================] - 26s 252ms/step - loss: 2.6800e-04 - accuracy: 1.0000 - val_loss: 0.4457 - val_accuracy: 0.8853\n",
            "Epoch 30/33\n",
            "102/102 [==============================] - 26s 252ms/step - loss: 0.0018 - accuracy: 0.9987 - val_loss: 0.5499 - val_accuracy: 0.8882\n",
            "Epoch 31/33\n",
            "102/102 [==============================] - 26s 252ms/step - loss: 4.9758e-04 - accuracy: 1.0000 - val_loss: 0.5822 - val_accuracy: 0.8765\n",
            "Epoch 32/33\n",
            "102/102 [==============================] - 26s 252ms/step - loss: 2.2029e-04 - accuracy: 1.0000 - val_loss: 0.5556 - val_accuracy: 0.8824\n",
            "Epoch 33/33\n",
            "102/102 [==============================] - 26s 252ms/step - loss: 8.4633e-05 - accuracy: 1.0000 - val_loss: 0.5410 - val_accuracy: 0.8824\n",
            "INFO:tensorflow:Assets written to: /content/drive/My Drive/leukemia_classification/model_2/assets\n",
            "Completed training of model_2.\n",
            "Epoch 1/33\n",
            "102/102 [==============================] - 32s 225ms/step - loss: 0.8122 - accuracy: 0.6844 - val_loss: 0.4426 - val_accuracy: 0.8147\n",
            "Epoch 2/33\n",
            "102/102 [==============================] - 21s 202ms/step - loss: 0.3558 - accuracy: 0.8446 - val_loss: 0.3096 - val_accuracy: 0.8824\n",
            "Epoch 3/33\n",
            "102/102 [==============================] - 21s 202ms/step - loss: 0.2289 - accuracy: 0.9214 - val_loss: 0.4885 - val_accuracy: 0.8559\n",
            "Epoch 4/33\n",
            "102/102 [==============================] - 21s 202ms/step - loss: 0.2760 - accuracy: 0.8881 - val_loss: 1.8737 - val_accuracy: 0.6176\n",
            "Epoch 5/33\n",
            "102/102 [==============================] - 21s 202ms/step - loss: 0.2115 - accuracy: 0.9201 - val_loss: 0.4410 - val_accuracy: 0.8412\n",
            "Epoch 6/33\n",
            "102/102 [==============================] - 21s 202ms/step - loss: 0.1603 - accuracy: 0.9275 - val_loss: 0.3764 - val_accuracy: 0.8824\n",
            "Epoch 7/33\n",
            "102/102 [==============================] - 21s 202ms/step - loss: 0.0813 - accuracy: 0.9716 - val_loss: 0.4407 - val_accuracy: 0.8471\n",
            "Epoch 8/33\n",
            "102/102 [==============================] - 21s 202ms/step - loss: 0.0529 - accuracy: 0.9769 - val_loss: 0.5996 - val_accuracy: 0.8412\n",
            "Epoch 9/33\n",
            "102/102 [==============================] - 21s 202ms/step - loss: 0.1075 - accuracy: 0.9719 - val_loss: 0.8448 - val_accuracy: 0.8324\n",
            "Epoch 10/33\n",
            "102/102 [==============================] - 21s 202ms/step - loss: 0.0583 - accuracy: 0.9753 - val_loss: 0.5051 - val_accuracy: 0.8912\n",
            "Epoch 11/33\n",
            "102/102 [==============================] - 21s 202ms/step - loss: 0.1237 - accuracy: 0.9555 - val_loss: 0.5811 - val_accuracy: 0.8353\n",
            "Epoch 12/33\n",
            "102/102 [==============================] - 21s 202ms/step - loss: 0.1390 - accuracy: 0.9567 - val_loss: 0.2767 - val_accuracy: 0.8882\n",
            "Epoch 13/33\n",
            "102/102 [==============================] - 21s 202ms/step - loss: 0.0377 - accuracy: 0.9845 - val_loss: 0.9210 - val_accuracy: 0.7500\n",
            "Epoch 14/33\n",
            "102/102 [==============================] - 21s 202ms/step - loss: 0.0744 - accuracy: 0.9747 - val_loss: 0.3746 - val_accuracy: 0.8941\n",
            "Epoch 15/33\n",
            "102/102 [==============================] - 21s 202ms/step - loss: 0.0628 - accuracy: 0.9811 - val_loss: 0.3166 - val_accuracy: 0.9059\n",
            "Epoch 16/33\n",
            "102/102 [==============================] - 21s 202ms/step - loss: 0.0587 - accuracy: 0.9834 - val_loss: 2.3030 - val_accuracy: 0.7059\n",
            "Epoch 17/33\n",
            "102/102 [==============================] - 21s 202ms/step - loss: 0.0431 - accuracy: 0.9843 - val_loss: 0.2644 - val_accuracy: 0.9265\n",
            "Epoch 18/33\n",
            "102/102 [==============================] - 21s 202ms/step - loss: 0.0599 - accuracy: 0.9769 - val_loss: 0.3604 - val_accuracy: 0.8971\n",
            "Epoch 19/33\n",
            "102/102 [==============================] - 21s 202ms/step - loss: 0.0332 - accuracy: 0.9887 - val_loss: 1.6121 - val_accuracy: 0.6824\n",
            "Epoch 20/33\n",
            "102/102 [==============================] - 21s 202ms/step - loss: 0.0556 - accuracy: 0.9865 - val_loss: 0.4086 - val_accuracy: 0.8853\n",
            "Epoch 21/33\n",
            "102/102 [==============================] - 21s 202ms/step - loss: 0.0619 - accuracy: 0.9790 - val_loss: 0.5775 - val_accuracy: 0.8647\n",
            "Epoch 22/33\n",
            "102/102 [==============================] - 21s 202ms/step - loss: 0.0642 - accuracy: 0.9762 - val_loss: 0.3114 - val_accuracy: 0.9118\n",
            "Epoch 23/33\n",
            "102/102 [==============================] - 21s 202ms/step - loss: 0.0055 - accuracy: 0.9994 - val_loss: 0.2370 - val_accuracy: 0.9176\n",
            "Epoch 24/33\n",
            "102/102 [==============================] - 21s 202ms/step - loss: 0.0167 - accuracy: 0.9955 - val_loss: 1.6112 - val_accuracy: 0.8353\n",
            "Epoch 25/33\n",
            "102/102 [==============================] - 21s 202ms/step - loss: 0.1014 - accuracy: 0.9691 - val_loss: 1.2211 - val_accuracy: 0.8118\n",
            "Epoch 26/33\n",
            "102/102 [==============================] - 21s 202ms/step - loss: 0.1631 - accuracy: 0.9389 - val_loss: 1.0973 - val_accuracy: 0.8500\n",
            "Epoch 27/33\n",
            "102/102 [==============================] - 21s 202ms/step - loss: 0.0486 - accuracy: 0.9780 - val_loss: 0.8578 - val_accuracy: 0.8324\n",
            "Epoch 28/33\n",
            "102/102 [==============================] - 21s 202ms/step - loss: 0.0657 - accuracy: 0.9719 - val_loss: 0.5105 - val_accuracy: 0.8882\n",
            "Epoch 29/33\n",
            "102/102 [==============================] - 21s 202ms/step - loss: 0.0276 - accuracy: 0.9886 - val_loss: 0.6416 - val_accuracy: 0.8618\n",
            "Epoch 30/33\n",
            "102/102 [==============================] - 21s 202ms/step - loss: 0.0087 - accuracy: 0.9950 - val_loss: 0.2538 - val_accuracy: 0.9324\n",
            "Epoch 31/33\n",
            "102/102 [==============================] - 21s 202ms/step - loss: 0.0059 - accuracy: 0.9983 - val_loss: 0.4346 - val_accuracy: 0.9000\n",
            "Epoch 32/33\n",
            "102/102 [==============================] - 21s 202ms/step - loss: 0.0456 - accuracy: 0.9777 - val_loss: 0.4852 - val_accuracy: 0.8500\n",
            "Epoch 33/33\n",
            "102/102 [==============================] - 21s 202ms/step - loss: 0.0079 - accuracy: 1.0000 - val_loss: 0.2637 - val_accuracy: 0.8971\n",
            "INFO:tensorflow:Assets written to: /content/drive/My Drive/leukemia_classification/model_3/assets\n",
            "Completed training of model_3.\n"
          ],
          "name": "stdout"
        }
      ]
    }
  ]
}