{
  "nbformat": 4,
  "nbformat_minor": 0,
  "metadata": {
    "accelerator": "GPU",
    "colab": {
      "name": "LeukemiaClassificationTraining2.ipynb",
      "provenance": [],
      "collapsed_sections": [],
      "toc_visible": true,
      "machine_shape": "hm",
      "authorship_tag": "ABX9TyM6816dVBvLqt07Njd1GTkf",
      "include_colab_link": true
    },
    "kernelspec": {
      "display_name": "Python 3",
      "name": "python3"
    },
    "language_info": {
      "name": "python"
    }
  },
  "cells": [
    {
      "cell_type": "markdown",
      "metadata": {
        "id": "view-in-github",
        "colab_type": "text"
      },
      "source": [
        "<a href=\"https://colab.research.google.com/github/rishipython/ALL-Cell-Classification/blob/main/LeukemiaClassificationTraining2.ipynb\" target=\"_parent\"><img src=\"https://colab.research.google.com/assets/colab-badge.svg\" alt=\"Open In Colab\"/></a>"
      ]
    },
    {
      "cell_type": "code",
      "metadata": {
        "id": "VvuDB6HSOPO_"
      },
      "source": [
        "import keras\n",
        "from keras.applications.vgg16 import VGG16\n",
        "from keras.applications.inception_v3 import InceptionV3\n",
        "from keras.applications.resnet50 import ResNet50\n",
        "from keras.applications.densenet import DenseNet121\n",
        "from keras.layers import Add\n",
        "from keras.layers import Dense\n",
        "from keras import backend as K\n",
        "from keras.engine import Input, Model\n",
        "from keras.layers import Conv2D, MaxPooling2D, UpSampling2D, Activation, BatchNormalization, PReLU, Dropout, Conv2DTranspose\n",
        "from keras.layers import Activation\n",
        "from keras.optimizers import Adam\n",
        "from keras.layers.merge import concatenate\n",
        "from keras.utils import to_categorical\n",
        "import PIL\n",
        "import numpy as np\n",
        "from PIL import Image\n",
        "from numpy import asarray\n",
        "import glob\n",
        "import nibabel as nib\n",
        "import os\n",
        "import tarfile as trf\n",
        "from sklearn.model_selection import train_test_split\n",
        "import matplotlib.pyplot as plt\n",
        "import pandas as pd\n",
        "import pickle\n",
        "from sklearn.metrics import roc_auc_score, roc_curve, auc\n",
        "from IPython.display import display\n",
        "K.set_image_data_format(\"channels_last\")"
      ],
      "execution_count": null,
      "outputs": []
    },
    {
      "cell_type": "code",
      "metadata": {
        "colab": {
          "base_uri": "https://localhost:8080/"
        },
        "id": "j-IClmKiOUXB",
        "outputId": "b100682c-ea0a-43be-a406-772dcb372916"
      },
      "source": [
        "# Access GPU\n",
        "gpu_info = !nvidia-smi\n",
        "gpu_info = '\\n'.join(gpu_info)\n",
        "if gpu_info.find('failed') >= 0:\n",
        "  print('Select the Runtime > \"Change runtime type\" menu to enable a GPU accelerator, ')\n",
        "  print('and then re-execute this cell.')\n",
        "else:\n",
        "  print(gpu_info)"
      ],
      "execution_count": null,
      "outputs": [
        {
          "output_type": "stream",
          "text": [
            "Sun Apr 11 21:20:35 2021       \n",
            "+-----------------------------------------------------------------------------+\n",
            "| NVIDIA-SMI 460.67       Driver Version: 460.32.03    CUDA Version: 11.2     |\n",
            "|-------------------------------+----------------------+----------------------+\n",
            "| GPU  Name        Persistence-M| Bus-Id        Disp.A | Volatile Uncorr. ECC |\n",
            "| Fan  Temp  Perf  Pwr:Usage/Cap|         Memory-Usage | GPU-Util  Compute M. |\n",
            "|                               |                      |               MIG M. |\n",
            "|===============================+======================+======================|\n",
            "|   0  Tesla P100-PCIE...  Off  | 00000000:00:04.0 Off |                    0 |\n",
            "| N/A   37C    P0    27W / 250W |      0MiB / 16280MiB |      0%      Default |\n",
            "|                               |                      |                  N/A |\n",
            "+-------------------------------+----------------------+----------------------+\n",
            "                                                                               \n",
            "+-----------------------------------------------------------------------------+\n",
            "| Processes:                                                                  |\n",
            "|  GPU   GI   CI        PID   Type   Process name                  GPU Memory |\n",
            "|        ID   ID                                                   Usage      |\n",
            "|=============================================================================|\n",
            "|  No running processes found                                                 |\n",
            "+-----------------------------------------------------------------------------+\n"
          ],
          "name": "stdout"
        }
      ]
    },
    {
      "cell_type": "code",
      "metadata": {
        "colab": {
          "base_uri": "https://localhost:8080/"
        },
        "id": "8NQEymYEOiZI",
        "outputId": "d647f5d8-4c52-48d4-b9fb-ff8e423a5f86"
      },
      "source": [
        "# Access more memory\n",
        "from psutil import virtual_memory\n",
        "ram_gb = virtual_memory().total / 1e9\n",
        "print('Your runtime has {:.1f} gigabytes of available RAM\\n'.format(ram_gb))\n",
        "\n",
        "if ram_gb < 20:\n",
        "  print('To enable a high-RAM runtime, select the Runtime > \"Change runtime type\"')\n",
        "  print('menu, and then select High-RAM in the Runtime shape dropdown. Then, ')\n",
        "  print('re-execute this cell.')\n",
        "else:\n",
        "  print('You are using a high-RAM runtime!')"
      ],
      "execution_count": null,
      "outputs": [
        {
          "output_type": "stream",
          "text": [
            "Your runtime has 27.4 gigabytes of available RAM\n",
            "\n",
            "You are using a high-RAM runtime!\n"
          ],
          "name": "stdout"
        }
      ]
    },
    {
      "cell_type": "code",
      "metadata": {
        "colab": {
          "base_uri": "https://localhost:8080/"
        },
        "id": "hjoaDtuKOklF",
        "outputId": "3e0b1aab-21ef-4f47-df46-f7b19175ef6b"
      },
      "source": [
        "# See if Tensorflow is using GPU\n",
        "%tensorflow_version 2.x\n",
        "import tensorflow as tf\n",
        "device_name = tf.test.gpu_device_name()\n",
        "if device_name != '/device:GPU:0':\n",
        "  raise SystemError('GPU device not found')\n",
        "print('Found GPU at: {}'.format(device_name))"
      ],
      "execution_count": null,
      "outputs": [
        {
          "output_type": "stream",
          "text": [
            "Found GPU at: /device:GPU:0\n"
          ],
          "name": "stdout"
        }
      ]
    },
    {
      "cell_type": "code",
      "metadata": {
        "colab": {
          "base_uri": "https://localhost:8080/"
        },
        "id": "LOlFtV7OOmfL",
        "outputId": "9fe3204c-2a64-4e9d-eb24-5b1bb9278451"
      },
      "source": [
        "from google.colab import drive\n",
        "drive.mount('/content/drive')"
      ],
      "execution_count": null,
      "outputs": [
        {
          "output_type": "stream",
          "text": [
            "Mounted at /content/drive\n"
          ],
          "name": "stdout"
        }
      ]
    },
    {
      "cell_type": "code",
      "metadata": {
        "id": "LpHN-j8lOpDp"
      },
      "source": [
        "drive_dir = f\"{os.sep}content{os.sep}drive{os.sep}MyDrive{os.sep}leukemia_classification{os.sep}\""
      ],
      "execution_count": null,
      "outputs": []
    },
    {
      "cell_type": "markdown",
      "metadata": {
        "id": "BNxmWp9dBUQm"
      },
      "source": [
        "# Model Construction"
      ]
    },
    {
      "cell_type": "code",
      "metadata": {
        "id": "pfKSBLtUQC3D"
      },
      "source": [
        "def make_model(input_shape=(450, 450, 3), lr=1e-4, loss_function=\"binary_crossentropy\", metrics=\"accuracy\"):\n",
        "  if not isinstance(metrics, list):\n",
        "    metrics = [metrics]\n",
        "  x = Input(input_shape)\n",
        "  densenet = DenseNet121(input_shape=input_shape, include_top=False)(x)\n",
        "  vgg16 = VGG16(input_shape=input_shape, include_top=False)(x)\n",
        "  resnet50 = ResNet50(input_shape=input_shape, include_top=False)(x)\n",
        "  conv1 = Conv2D(3, vgg16.shape[1]-9)(vgg16)\n",
        "  conv2 = Conv2D(3, resnet50.shape[1]-9)(resnet50)\n",
        "  add1 = Add()([conv1, conv2])\n",
        "  up = UpSampling2D(size=(10, 10))(add1)\n",
        "  inceptionv3 = InceptionV3(input_shape=up.shape[1:], include_top=False)(up)\n",
        "  conv3 = Conv2D(1, densenet.shape[1])(densenet)\n",
        "  conv4 = Conv2D(1, 1)(inceptionv3)\n",
        "  add2 = Add()([conv3, conv4])\n",
        "  output_layer = Activation(\"sigmoid\")(add2)\n",
        "  model = Model(x, output_layer)\n",
        "  model.compile(optimizer = Adam(lr = lr), loss = loss_function, metrics = metrics)\n",
        "  return model"
      ],
      "execution_count": null,
      "outputs": []
    },
    {
      "cell_type": "markdown",
      "metadata": {
        "id": "PGkFQ667PYjC"
      },
      "source": [
        "# Make and train model_4"
      ]
    },
    {
      "cell_type": "code",
      "metadata": {
        "id": "fG2jFcfVPePw"
      },
      "source": [
        "x_train = np.load(drive_dir+\"x_train.npy\")\n",
        "y_train = np.load(drive_dir+\"y_train.npy\")\n",
        "x_val = np.load(drive_dir+\"x_val.npy\")\n",
        "y_val = np.load(drive_dir+\"y_val.npy\")\n",
        "x_test = np.load(drive_dir+\"x_test.npy\")\n",
        "y_test = np.load(drive_dir+\"y_test.npy\")"
      ],
      "execution_count": null,
      "outputs": []
    },
    {
      "cell_type": "code",
      "metadata": {
        "id": "rFNGXEmzPiXT",
        "colab": {
          "base_uri": "https://localhost:8080/"
        },
        "outputId": "37cf3451-d606-448d-8195-f175e1b3f330"
      },
      "source": [
        "print(x_train.shape)\n",
        "print(y_train.shape)\n",
        "print(x_val.shape)\n",
        "print(y_val.shape)\n",
        "print(x_test.shape)\n",
        "print(y_test.shape)"
      ],
      "execution_count": null,
      "outputs": [
        {
          "output_type": "stream",
          "text": [
            "(1020, 450, 450, 3)\n",
            "(1020, 1, 1, 1)\n",
            "(340, 450, 450, 3)\n",
            "(340, 1, 1, 1)\n",
            "(340, 450, 450, 3)\n",
            "(340, 1, 1, 1)\n"
          ],
          "name": "stdout"
        }
      ]
    },
    {
      "cell_type": "code",
      "metadata": {
        "id": "vRZh3NBsPldS"
      },
      "source": [
        "mean = float(open(drive_dir+\"mean.txt\", 'r').readline())\n",
        "std = float(open(drive_dir+\"std.txt\", 'r').readline())"
      ],
      "execution_count": null,
      "outputs": []
    },
    {
      "cell_type": "code",
      "metadata": {
        "id": "7-p41MJvPn7y",
        "colab": {
          "base_uri": "https://localhost:8080/"
        },
        "outputId": "903c847f-cf55-4cd6-fc1d-3632e79f77b0"
      },
      "source": [
        "print(mean)\n",
        "print(type(mean))\n",
        "print(std)\n",
        "print(type(std))"
      ],
      "execution_count": null,
      "outputs": [
        {
          "output_type": "stream",
          "text": [
            "9.178323056564189\n",
            "<class 'float'>\n",
            "23.645296284294893\n",
            "<class 'float'>\n"
          ],
          "name": "stdout"
        }
      ]
    },
    {
      "cell_type": "code",
      "metadata": {
        "id": "GS55BUVMPpph"
      },
      "source": [
        "input_shape = x_train[0].shape\n",
        "output_shape = (1, 1, 1)"
      ],
      "execution_count": null,
      "outputs": []
    },
    {
      "cell_type": "code",
      "metadata": {
        "id": "pwWE4jc6PxTm",
        "colab": {
          "base_uri": "https://localhost:8080/"
        },
        "outputId": "ce59dcef-201b-495d-90bd-9d741bb47382"
      },
      "source": [
        "print(input_shape)\n",
        "print(output_shape)"
      ],
      "execution_count": null,
      "outputs": [
        {
          "output_type": "stream",
          "text": [
            "(450, 450, 3)\n",
            "(1, 1, 1)\n"
          ],
          "name": "stdout"
        }
      ]
    },
    {
      "cell_type": "code",
      "metadata": {
        "id": "ZsPe0WWuP0Li"
      },
      "source": [
        "lr = 1e-4\n",
        "loss_function = \"binary_crossentropy\"\n",
        "metrics = \"accuracy\"\n",
        "if not isinstance(metrics, list):\n",
        "  metrics = [metrics]"
      ],
      "execution_count": null,
      "outputs": []
    },
    {
      "cell_type": "code",
      "metadata": {
        "id": "crbczw81P4GG",
        "colab": {
          "base_uri": "https://localhost:8080/"
        },
        "outputId": "25fbca54-6f25-4816-f205-41bbc82226a5"
      },
      "source": [
        "# Model 4 (proposed model)\n",
        "model_4 = make_model()"
      ],
      "execution_count": null,
      "outputs": [
        {
          "output_type": "stream",
          "text": [
            "Downloading data from https://storage.googleapis.com/tensorflow/keras-applications/densenet/densenet121_weights_tf_dim_ordering_tf_kernels_notop.h5\n",
            "29089792/29084464 [==============================] - 0s 0us/step\n",
            "Downloading data from https://storage.googleapis.com/tensorflow/keras-applications/vgg16/vgg16_weights_tf_dim_ordering_tf_kernels_notop.h5\n",
            "58892288/58889256 [==============================] - 0s 0us/step\n",
            "Downloading data from https://storage.googleapis.com/tensorflow/keras-applications/resnet/resnet50_weights_tf_dim_ordering_tf_kernels_notop.h5\n",
            "94773248/94765736 [==============================] - 0s 0us/step\n",
            "Downloading data from https://storage.googleapis.com/tensorflow/keras-applications/inception_v3/inception_v3_weights_tf_dim_ordering_tf_kernels_notop.h5\n",
            "87916544/87910968 [==============================] - 0s 0us/step\n"
          ],
          "name": "stdout"
        }
      ]
    },
    {
      "cell_type": "code",
      "metadata": {
        "id": "2eZLrJMjP6Nn",
        "colab": {
          "base_uri": "https://localhost:8080/"
        },
        "outputId": "b17642f8-e1a5-4a02-a38a-da8cee7b9279"
      },
      "source": [
        "model_4.summary()"
      ],
      "execution_count": null,
      "outputs": [
        {
          "output_type": "stream",
          "text": [
            "Model: \"model\"\n",
            "__________________________________________________________________________________________________\n",
            "Layer (type)                    Output Shape         Param #     Connected to                     \n",
            "==================================================================================================\n",
            "input_1 (InputLayer)            [(None, 450, 450, 3) 0                                            \n",
            "__________________________________________________________________________________________________\n",
            "vgg16 (Functional)              (None, 14, 14, 512)  14714688    input_1[0][0]                    \n",
            "__________________________________________________________________________________________________\n",
            "resnet50 (Functional)           (None, 15, 15, 2048) 23587712    input_1[0][0]                    \n",
            "__________________________________________________________________________________________________\n",
            "conv2d (Conv2D)                 (None, 10, 10, 3)    38403       vgg16[0][0]                      \n",
            "__________________________________________________________________________________________________\n",
            "conv2d_1 (Conv2D)               (None, 10, 10, 3)    221187      resnet50[0][0]                   \n",
            "__________________________________________________________________________________________________\n",
            "add (Add)                       (None, 10, 10, 3)    0           conv2d[0][0]                     \n",
            "                                                                 conv2d_1[0][0]                   \n",
            "__________________________________________________________________________________________________\n",
            "up_sampling2d (UpSampling2D)    (None, 100, 100, 3)  0           add[0][0]                        \n",
            "__________________________________________________________________________________________________\n",
            "densenet121 (Functional)        (None, 14, 14, 1024) 7037504     input_1[0][0]                    \n",
            "__________________________________________________________________________________________________\n",
            "inception_v3 (Functional)       (None, 1, 1, 2048)   21802784    up_sampling2d[0][0]              \n",
            "__________________________________________________________________________________________________\n",
            "conv2d_96 (Conv2D)              (None, 1, 1, 1)      200705      densenet121[0][0]                \n",
            "__________________________________________________________________________________________________\n",
            "conv2d_97 (Conv2D)              (None, 1, 1, 1)      2049        inception_v3[0][0]               \n",
            "__________________________________________________________________________________________________\n",
            "add_1 (Add)                     (None, 1, 1, 1)      0           conv2d_96[0][0]                  \n",
            "                                                                 conv2d_97[0][0]                  \n",
            "__________________________________________________________________________________________________\n",
            "activation_94 (Activation)      (None, 1, 1, 1)      0           add_1[0][0]                      \n",
            "==================================================================================================\n",
            "Total params: 67,605,032\n",
            "Trainable params: 67,433,832\n",
            "Non-trainable params: 171,200\n",
            "__________________________________________________________________________________________________\n"
          ],
          "name": "stdout"
        }
      ]
    },
    {
      "cell_type": "code",
      "metadata": {
        "id": "j83zZ6Z7QGfo"
      },
      "source": [
        "epochs = 33\n",
        "batch_size = 10"
      ],
      "execution_count": null,
      "outputs": []
    },
    {
      "cell_type": "code",
      "metadata": {
        "id": "nJN42Do4P62T",
        "colab": {
          "base_uri": "https://localhost:8080/"
        },
        "outputId": "ce0b19e3-8791-4953-efec-eb5375da7670"
      },
      "source": [
        "# Tran model\n",
        "history = model_4.fit(x_train, y_train, validation_data=(x_val, y_val), epochs=epochs, batch_size=batch_size)\n",
        "if input(\"Press Y to save: \") == \"Y\":\n",
        "  model_4.save(drive_dir + 'model_4')\n",
        "  hist_df = pd.DataFrame(history.history)\n",
        "  hist_csv_file = drive_dir + 'history_4.csv'\n",
        "  with open(hist_csv_file, mode='w') as f:\n",
        "    hist_df.to_csv(f)"
      ],
      "execution_count": null,
      "outputs": [
        {
          "output_type": "stream",
          "text": [
            "Epoch 1/33\n",
            "102/102 [==============================] - 138s 912ms/step - loss: 1.0504 - accuracy: 0.6932 - val_loss: 0.6121 - val_accuracy: 0.7529\n",
            "Epoch 2/33\n",
            "102/102 [==============================] - 88s 864ms/step - loss: 0.5088 - accuracy: 0.8411 - val_loss: 16.5310 - val_accuracy: 0.5853\n",
            "Epoch 3/33\n",
            "102/102 [==============================] - 88s 863ms/step - loss: 0.8315 - accuracy: 0.8114 - val_loss: 0.4285 - val_accuracy: 0.8471\n",
            "Epoch 4/33\n",
            "102/102 [==============================] - 88s 863ms/step - loss: 0.3793 - accuracy: 0.8886 - val_loss: 83.0779 - val_accuracy: 0.4324\n",
            "Epoch 5/33\n",
            "102/102 [==============================] - 88s 863ms/step - loss: 0.2776 - accuracy: 0.8941 - val_loss: 34.9124 - val_accuracy: 0.5706\n",
            "Epoch 6/33\n",
            "102/102 [==============================] - 88s 863ms/step - loss: 0.2439 - accuracy: 0.9143 - val_loss: 5.3984 - val_accuracy: 0.5382\n",
            "Epoch 7/33\n",
            "102/102 [==============================] - 88s 863ms/step - loss: 0.0853 - accuracy: 0.9704 - val_loss: 11.6178 - val_accuracy: 0.6235\n",
            "Epoch 8/33\n",
            "102/102 [==============================] - 88s 863ms/step - loss: 0.1192 - accuracy: 0.9494 - val_loss: 1.5139 - val_accuracy: 0.7882\n",
            "Epoch 9/33\n",
            "102/102 [==============================] - 88s 863ms/step - loss: 0.1203 - accuracy: 0.9613 - val_loss: 1.2875 - val_accuracy: 0.8412\n",
            "Epoch 10/33\n",
            "102/102 [==============================] - 88s 863ms/step - loss: 0.0694 - accuracy: 0.9750 - val_loss: 9.9165 - val_accuracy: 0.6618\n",
            "Epoch 11/33\n",
            "102/102 [==============================] - 88s 864ms/step - loss: 0.0896 - accuracy: 0.9697 - val_loss: 0.3732 - val_accuracy: 0.9147\n",
            "Epoch 12/33\n",
            "102/102 [==============================] - 88s 863ms/step - loss: 0.1697 - accuracy: 0.9556 - val_loss: 0.4819 - val_accuracy: 0.8824\n",
            "Epoch 13/33\n",
            "102/102 [==============================] - 88s 863ms/step - loss: 0.0878 - accuracy: 0.9597 - val_loss: 3.4425 - val_accuracy: 0.7118\n",
            "Epoch 14/33\n",
            "102/102 [==============================] - 88s 863ms/step - loss: 0.1538 - accuracy: 0.9450 - val_loss: 0.6396 - val_accuracy: 0.8912\n",
            "Epoch 15/33\n",
            "102/102 [==============================] - 88s 863ms/step - loss: 0.0877 - accuracy: 0.9553 - val_loss: 0.3334 - val_accuracy: 0.8971\n",
            "Epoch 16/33\n",
            "102/102 [==============================] - 88s 863ms/step - loss: 0.0263 - accuracy: 0.9876 - val_loss: 0.2627 - val_accuracy: 0.9294\n",
            "Epoch 17/33\n",
            "102/102 [==============================] - 88s 863ms/step - loss: 0.0175 - accuracy: 0.9908 - val_loss: 0.4584 - val_accuracy: 0.8882\n",
            "Epoch 18/33\n",
            "102/102 [==============================] - 88s 863ms/step - loss: 0.0020 - accuracy: 1.0000 - val_loss: 0.4131 - val_accuracy: 0.9206\n",
            "Epoch 19/33\n",
            "102/102 [==============================] - 88s 863ms/step - loss: 0.0017 - accuracy: 1.0000 - val_loss: 0.2260 - val_accuracy: 0.9441\n",
            "Epoch 20/33\n",
            "102/102 [==============================] - 88s 863ms/step - loss: 0.0010 - accuracy: 1.0000 - val_loss: 0.1980 - val_accuracy: 0.9471\n",
            "Epoch 21/33\n",
            "102/102 [==============================] - 88s 863ms/step - loss: 9.1171e-04 - accuracy: 1.0000 - val_loss: 0.2145 - val_accuracy: 0.9500\n",
            "Epoch 22/33\n",
            "102/102 [==============================] - 88s 863ms/step - loss: 0.0034 - accuracy: 0.9987 - val_loss: 0.2587 - val_accuracy: 0.9353\n",
            "Epoch 23/33\n",
            "102/102 [==============================] - 88s 863ms/step - loss: 0.1684 - accuracy: 0.9650 - val_loss: 9.6147 - val_accuracy: 0.8559\n",
            "Epoch 24/33\n",
            "102/102 [==============================] - 88s 863ms/step - loss: 0.5117 - accuracy: 0.8879 - val_loss: 1.0685 - val_accuracy: 0.7676\n",
            "Epoch 25/33\n",
            "102/102 [==============================] - 88s 863ms/step - loss: 0.2342 - accuracy: 0.9257 - val_loss: 1.8248 - val_accuracy: 0.6147\n",
            "Epoch 26/33\n",
            "102/102 [==============================] - 88s 863ms/step - loss: 0.4130 - accuracy: 0.9148 - val_loss: 0.4564 - val_accuracy: 0.8882\n",
            "Epoch 27/33\n",
            "102/102 [==============================] - 88s 863ms/step - loss: 0.2704 - accuracy: 0.9185 - val_loss: 2.6859 - val_accuracy: 0.8353\n",
            "Epoch 28/33\n",
            "102/102 [==============================] - 88s 863ms/step - loss: 0.1502 - accuracy: 0.9547 - val_loss: 0.4672 - val_accuracy: 0.8735\n",
            "Epoch 29/33\n",
            "102/102 [==============================] - 88s 863ms/step - loss: 0.2325 - accuracy: 0.9529 - val_loss: 0.5766 - val_accuracy: 0.9000\n",
            "Epoch 30/33\n",
            "102/102 [==============================] - 88s 863ms/step - loss: 0.1545 - accuracy: 0.9639 - val_loss: 2.4433 - val_accuracy: 0.7324\n",
            "Epoch 31/33\n",
            "102/102 [==============================] - 88s 863ms/step - loss: 0.0870 - accuracy: 0.9795 - val_loss: 1.2201 - val_accuracy: 0.7912\n",
            "Epoch 32/33\n",
            "102/102 [==============================] - 88s 863ms/step - loss: 0.0817 - accuracy: 0.9812 - val_loss: 4.2077 - val_accuracy: 0.7235\n",
            "Epoch 33/33\n",
            "102/102 [==============================] - 88s 863ms/step - loss: 0.2191 - accuracy: 0.9593 - val_loss: 0.5914 - val_accuracy: 0.9235\n",
            "Press Y to save: Y\n",
            "INFO:tensorflow:Assets written to: /content/drive/MyDrive/leukemia_classification/model_4/assets\n"
          ],
          "name": "stdout"
        }
      ]
    }
  ]
}