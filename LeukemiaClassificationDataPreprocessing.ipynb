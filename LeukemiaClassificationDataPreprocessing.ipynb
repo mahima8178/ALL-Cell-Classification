{
  "nbformat": 4,
  "nbformat_minor": 0,
  "metadata": {
    "accelerator": "GPU",
    "colab": {
      "name": "LeukemiaClassificationDataPreprocessing.ipynb",
      "provenance": [],
      "collapsed_sections": [],
      "machine_shape": "hm",
      "authorship_tag": "ABX9TyPb906KqTOSBE+zvCeNQZUz",
      "include_colab_link": true
    },
    "kernelspec": {
      "display_name": "Python 3",
      "name": "python3"
    },
    "language_info": {
      "name": "python"
    }
  },
  "cells": [
    {
      "cell_type": "markdown",
      "metadata": {
        "id": "view-in-github",
        "colab_type": "text"
      },
      "source": [
        "<a href=\"https://colab.research.google.com/github/rishipython/ALL-Cell-Classification/blob/main/LeukemiaClassificationDataPreprocessing.ipynb\" target=\"_parent\"><img src=\"https://colab.research.google.com/assets/colab-badge.svg\" alt=\"Open In Colab\"/></a>"
      ]
    },
    {
      "cell_type": "code",
      "metadata": {
        "id": "j9ZnonLC9ifa"
      },
      "source": [
        "import numpy as np\n",
        "import os\n",
        "from sklearn.model_selection import train_test_split\n",
        "from sklearn.utils import shuffle\n",
        "import matplotlib.pyplot as plt"
      ],
      "execution_count": null,
      "outputs": []
    },
    {
      "cell_type": "code",
      "metadata": {
        "id": "fHJt7U5X9tdE"
      },
      "source": [
        "from google.colab import drive\n",
        "drive.mount('/content/drive')"
      ],
      "execution_count": null,
      "outputs": []
    },
    {
      "cell_type": "code",
      "metadata": {
        "id": "nT-LkUyY9ktX"
      },
      "source": [
        "drive_dir = f\"{os.sep}content{os.sep}drive{os.sep}My Drive{os.sep}leukemia_classification{os.sep}\""
      ],
      "execution_count": null,
      "outputs": []
    },
    {
      "cell_type": "code",
      "metadata": {
        "id": "FdfHxCZHBGcR"
      },
      "source": [
        "ls /content/drive/MyDrive/leukemia_classification/"
      ],
      "execution_count": null,
      "outputs": []
    },
    {
      "cell_type": "code",
      "metadata": {
        "id": "plUL9k9SNFSG"
      },
      "source": [
        "x = np.load(drive_dir+\"images.npy\")"
      ],
      "execution_count": null,
      "outputs": []
    },
    {
      "cell_type": "code",
      "metadata": {
        "id": "RV32rkZFPlZL"
      },
      "source": [
        "y = np.load(drive_dir+\"labels.npy\")"
      ],
      "execution_count": null,
      "outputs": []
    },
    {
      "cell_type": "code",
      "metadata": {
        "id": "nzKv-7DHGsmv"
      },
      "source": [
        "# Number of datapoints to use\n",
        "n = 1700"
      ],
      "execution_count": null,
      "outputs": []
    },
    {
      "cell_type": "code",
      "metadata": {
        "id": "H4JajJcbKLQP"
      },
      "source": [
        "x_neg = []\n",
        "y_neg = []\n",
        "x_pos = []\n",
        "y_pos = []"
      ],
      "execution_count": null,
      "outputs": []
    },
    {
      "cell_type": "code",
      "metadata": {
        "id": "2KbTUKmxI0Tk"
      },
      "source": [
        "x, y = shuffle(x, y)"
      ],
      "execution_count": null,
      "outputs": []
    },
    {
      "cell_type": "code",
      "metadata": {
        "id": "qRr3I2ugKbBK"
      },
      "source": [
        "num_pos = min(int(n/2), np.sum(y))\n",
        "num_neg = n - num_pos"
      ],
      "execution_count": null,
      "outputs": []
    },
    {
      "cell_type": "code",
      "metadata": {
        "id": "ZWwLqe-OKtGo"
      },
      "source": [
        "print(num_pos)\n",
        "print(num_neg)"
      ],
      "execution_count": null,
      "outputs": []
    },
    {
      "cell_type": "code",
      "metadata": {
        "id": "s1FAfEmgKwjt"
      },
      "source": [
        "i = 0\n",
        "while (len(y_neg) < num_neg or len(y_pos) < num_pos) and i < y.shape[0]:\n",
        "  if y[i][0][0][0] == 0:\n",
        "    if len(y_neg) < num_neg:\n",
        "      x_neg.append(x[i])\n",
        "      y_neg.append(y[i])\n",
        "  elif y[i][0][0][0] == 1:\n",
        "    if len(y_pos) < num_pos:\n",
        "      x_pos.append(x[i])\n",
        "      y_pos.append(y[i])\n",
        "  i += 1"
      ],
      "execution_count": null,
      "outputs": []
    },
    {
      "cell_type": "code",
      "metadata": {
        "id": "Uiz9CObrL78c"
      },
      "source": [
        "x_neg = np.array(x_neg)\n",
        "y_neg = np.array(y_neg)\n",
        "x_pos = np.array(x_pos)\n",
        "y_pos = np.array(y_pos)"
      ],
      "execution_count": null,
      "outputs": []
    },
    {
      "cell_type": "code",
      "metadata": {
        "id": "gAHUaVJZMEkM"
      },
      "source": [
        "print(x_neg.shape)\n",
        "print(y_neg.shape)\n",
        "print(x_pos.shape)\n",
        "print(y_pos.shape)"
      ],
      "execution_count": null,
      "outputs": []
    },
    {
      "cell_type": "code",
      "metadata": {
        "id": "L71JszqIMSFZ"
      },
      "source": [
        "x = np.append(x_neg, x_pos, axis=0)"
      ],
      "execution_count": null,
      "outputs": []
    },
    {
      "cell_type": "code",
      "metadata": {
        "id": "McoclkT9MYTF"
      },
      "source": [
        "print(x.shape)"
      ],
      "execution_count": null,
      "outputs": []
    },
    {
      "cell_type": "code",
      "metadata": {
        "id": "XzFOeXKVMaM4"
      },
      "source": [
        "y = np.append(y_neg, y_pos, axis=0)"
      ],
      "execution_count": null,
      "outputs": []
    },
    {
      "cell_type": "code",
      "metadata": {
        "colab": {
          "base_uri": "https://localhost:8080/"
        },
        "id": "ujmFg-D0Mein",
        "outputId": "ff71b0b9-62ee-429d-9bd6-74f18554dc68"
      },
      "source": [
        "print(y.shape)"
      ],
      "execution_count": null,
      "outputs": [
        {
          "output_type": "stream",
          "text": [
            "(1700, 1, 1, 1)\n"
          ],
          "name": "stdout"
        }
      ]
    },
    {
      "cell_type": "code",
      "metadata": {
        "id": "GtUe1wXgMkud"
      },
      "source": [
        "print(np.sum(y))"
      ],
      "execution_count": null,
      "outputs": []
    },
    {
      "cell_type": "code",
      "metadata": {
        "id": "HqX_FdsEPzUW"
      },
      "source": [
        "x_train, x_val, y_train, y_val = train_test_split(\n",
        "    x, y, test_size=0.4, shuffle=True\n",
        ")"
      ],
      "execution_count": null,
      "outputs": []
    },
    {
      "cell_type": "code",
      "metadata": {
        "id": "sbgpkG5PQT9P"
      },
      "source": [
        "x_val, x_test, y_val, y_test = train_test_split(\n",
        "    x_val, y_val, test_size=0.5, shuffle=True\n",
        ")"
      ],
      "execution_count": null,
      "outputs": []
    },
    {
      "cell_type": "code",
      "metadata": {
        "colab": {
          "base_uri": "https://localhost:8080/"
        },
        "id": "kK2xIU-URQdq",
        "outputId": "a2db39ab-be5b-4c2c-82e6-f8bad5b7ce94"
      },
      "source": [
        "print(x_train.shape[0]/x.shape[0])"
      ],
      "execution_count": null,
      "outputs": [
        {
          "output_type": "stream",
          "text": [
            "0.6\n"
          ],
          "name": "stdout"
        }
      ]
    },
    {
      "cell_type": "code",
      "metadata": {
        "colab": {
          "base_uri": "https://localhost:8080/"
        },
        "id": "VETu_XhIRZCH",
        "outputId": "41510e2c-9488-4117-f1fc-f73dcaa5714e"
      },
      "source": [
        "print(y_train.shape[0]/y.shape[0])"
      ],
      "execution_count": null,
      "outputs": [
        {
          "output_type": "stream",
          "text": [
            "0.6\n"
          ],
          "name": "stdout"
        }
      ]
    },
    {
      "cell_type": "code",
      "metadata": {
        "colab": {
          "base_uri": "https://localhost:8080/"
        },
        "id": "UJ1lrk6eRd4q",
        "outputId": "c2313873-a949-4fec-c390-a3d2d2ab8278"
      },
      "source": [
        "print(x_val.shape[0]/x.shape[0])"
      ],
      "execution_count": null,
      "outputs": [
        {
          "output_type": "stream",
          "text": [
            "0.2\n"
          ],
          "name": "stdout"
        }
      ]
    },
    {
      "cell_type": "code",
      "metadata": {
        "colab": {
          "base_uri": "https://localhost:8080/"
        },
        "id": "GE4xmRiNRhB1",
        "outputId": "ab7a846f-7cec-45b2-f0b9-5d8157ea824e"
      },
      "source": [
        "print(y_val.shape[0]/y.shape[0])"
      ],
      "execution_count": null,
      "outputs": [
        {
          "output_type": "stream",
          "text": [
            "0.2\n"
          ],
          "name": "stdout"
        }
      ]
    },
    {
      "cell_type": "code",
      "metadata": {
        "colab": {
          "base_uri": "https://localhost:8080/"
        },
        "id": "hMvkgn7eRkDX",
        "outputId": "52d879a7-382c-40cf-ac38-60c4ab057dc1"
      },
      "source": [
        "print(x_test.shape[0]/x.shape[0])"
      ],
      "execution_count": null,
      "outputs": [
        {
          "output_type": "stream",
          "text": [
            "0.2\n"
          ],
          "name": "stdout"
        }
      ]
    },
    {
      "cell_type": "code",
      "metadata": {
        "colab": {
          "base_uri": "https://localhost:8080/"
        },
        "id": "hwBTJ3KFRmwb",
        "outputId": "9463aeb4-c8f9-49d4-ed25-d9b603affd6a"
      },
      "source": [
        "print(y_test.shape[0]/y.shape[0])"
      ],
      "execution_count": null,
      "outputs": [
        {
          "output_type": "stream",
          "text": [
            "0.2\n"
          ],
          "name": "stdout"
        }
      ]
    },
    {
      "cell_type": "code",
      "metadata": {
        "id": "LV-8sOTDNKHA"
      },
      "source": [
        "mean = np.mean(x_train)\n",
        "std = np.std(x_train)"
      ],
      "execution_count": null,
      "outputs": []
    },
    {
      "cell_type": "code",
      "metadata": {
        "colab": {
          "base_uri": "https://localhost:8080/"
        },
        "id": "8c3XsN-YLh9g",
        "outputId": "242deb83-2e78-437a-b9e4-9eb8f27861ca"
      },
      "source": [
        "print(mean)\n",
        "print(std)"
      ],
      "execution_count": null,
      "outputs": [
        {
          "output_type": "stream",
          "text": [
            "9.178323056564189\n",
            "23.645296284294893\n"
          ],
          "name": "stdout"
        }
      ]
    },
    {
      "cell_type": "code",
      "metadata": {
        "id": "9GnXS0XSNP_U"
      },
      "source": [
        "x_train = (x_train-mean)/std\n",
        "x_val = (x_val-mean)/std\n",
        "x_test = (x_test-mean)/std"
      ],
      "execution_count": null,
      "outputs": []
    },
    {
      "cell_type": "code",
      "metadata": {
        "colab": {
          "base_uri": "https://localhost:8080/"
        },
        "id": "L1JfogviNhod",
        "outputId": "d9252127-f37a-4007-dae4-b10b4028ea14"
      },
      "source": [
        "print(np.mean(x_train))\n",
        "print(np.std(x_train))"
      ],
      "execution_count": null,
      "outputs": [
        {
          "output_type": "stream",
          "text": [
            "-5.22795431841191e-16\n",
            "1.0000000000000833\n"
          ],
          "name": "stdout"
        }
      ]
    },
    {
      "cell_type": "code",
      "metadata": {
        "colab": {
          "base_uri": "https://localhost:8080/"
        },
        "id": "xD6Czs68NnVV",
        "outputId": "646a9fee-53cc-44f3-980a-2e9ddc004401"
      },
      "source": [
        "print(np.mean(x_val))\n",
        "print(np.std(x_val))"
      ],
      "execution_count": null,
      "outputs": [
        {
          "output_type": "stream",
          "text": [
            "0.010337770848999579\n",
            "1.0149813462080446\n"
          ],
          "name": "stdout"
        }
      ]
    },
    {
      "cell_type": "code",
      "metadata": {
        "colab": {
          "base_uri": "https://localhost:8080/"
        },
        "id": "_o-DxS2YNsaC",
        "outputId": "fc69c52d-e6f2-4a7a-ca34-7bb88fc3c60a"
      },
      "source": [
        "print(np.mean(x_test))\n",
        "print(np.std(x_test))"
      ],
      "execution_count": null,
      "outputs": [
        {
          "output_type": "stream",
          "text": [
            "0.009148234773502075\n",
            "1.0128472750314237\n"
          ],
          "name": "stdout"
        }
      ]
    },
    {
      "cell_type": "code",
      "metadata": {
        "colab": {
          "base_uri": "https://localhost:8080/"
        },
        "id": "04Xl9Z7dOb60",
        "outputId": "3e7f0730-689d-42ed-8d76-d22715adc194"
      },
      "source": [
        "print(f\"{np.sum(y_train)}/{y_train.shape[0]} of the training set are positive\")\n",
        "print(f\"{np.sum(y_val)}/{y_val.shape[0]} of the cross validation set are positive\")\n",
        "print(f\"{np.sum(y_test)}/{y_test.shape[0]} of the test set are positive\")"
      ],
      "execution_count": null,
      "outputs": [
        {
          "output_type": "stream",
          "text": [
            "490/1020 of the training set are positive\n",
            "193/340 of the cross validation set are positive\n",
            "167/340 of the test set are positive\n"
          ],
          "name": "stdout"
        }
      ]
    },
    {
      "cell_type": "code",
      "metadata": {
        "id": "qTfwkd_ESDUd"
      },
      "source": [
        "np.save(drive_dir+\"x_train.npy\", x_train)"
      ],
      "execution_count": null,
      "outputs": []
    },
    {
      "cell_type": "code",
      "metadata": {
        "id": "q20NGdHoSK28"
      },
      "source": [
        "np.save(drive_dir+\"y_train.npy\", y_train)"
      ],
      "execution_count": null,
      "outputs": []
    },
    {
      "cell_type": "code",
      "metadata": {
        "id": "lSk0loc4SODc"
      },
      "source": [
        "np.save(drive_dir+\"x_val.npy\", x_val)"
      ],
      "execution_count": null,
      "outputs": []
    },
    {
      "cell_type": "code",
      "metadata": {
        "id": "KEA1_UPzSSOW"
      },
      "source": [
        "np.save(drive_dir+\"y_val.npy\", y_val)"
      ],
      "execution_count": null,
      "outputs": []
    },
    {
      "cell_type": "code",
      "metadata": {
        "id": "6YRXZOctSXFa"
      },
      "source": [
        "np.save(drive_dir+\"x_test.npy\", x_test)"
      ],
      "execution_count": null,
      "outputs": []
    },
    {
      "cell_type": "code",
      "metadata": {
        "id": "6WDC0porSZtf"
      },
      "source": [
        "np.save(drive_dir+\"y_test.npy\", y_test)"
      ],
      "execution_count": null,
      "outputs": []
    },
    {
      "cell_type": "code",
      "metadata": {
        "id": "DR1H540vNyBm"
      },
      "source": [
        "with open(drive_dir+\"mean.txt\", 'w') as file:\n",
        "  file.write(str(mean))\n",
        "  file.close()"
      ],
      "execution_count": null,
      "outputs": []
    },
    {
      "cell_type": "code",
      "metadata": {
        "id": "bQaAMWWoOKN4"
      },
      "source": [
        "with open(drive_dir+\"std.txt\", 'w') as file:\n",
        "  file.write(str(std))\n",
        "  file.close()"
      ],
      "execution_count": null,
      "outputs": []
    }
  ]
}